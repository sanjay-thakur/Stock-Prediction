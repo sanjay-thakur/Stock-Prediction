{
 "cells": [
  {
   "cell_type": "code",
   "execution_count": 1,
   "id": "fe26b489",
   "metadata": {},
   "outputs": [
    {
     "data": {
      "text/html": [
       "<div>\n",
       "<style scoped>\n",
       "    .dataframe tbody tr th:only-of-type {\n",
       "        vertical-align: middle;\n",
       "    }\n",
       "\n",
       "    .dataframe tbody tr th {\n",
       "        vertical-align: top;\n",
       "    }\n",
       "\n",
       "    .dataframe thead th {\n",
       "        text-align: right;\n",
       "    }\n",
       "</style>\n",
       "<table border=\"1\" class=\"dataframe\">\n",
       "  <thead>\n",
       "    <tr style=\"text-align: right;\">\n",
       "      <th></th>\n",
       "      <th>Date</th>\n",
       "      <th>Open</th>\n",
       "      <th>High</th>\n",
       "      <th>Low</th>\n",
       "      <th>Close</th>\n",
       "      <th>Adj Close</th>\n",
       "      <th>Volume</th>\n",
       "    </tr>\n",
       "  </thead>\n",
       "  <tbody>\n",
       "    <tr>\n",
       "      <th>0</th>\n",
       "      <td>1986-03-13</td>\n",
       "      <td>0.088542</td>\n",
       "      <td>0.101563</td>\n",
       "      <td>0.088542</td>\n",
       "      <td>0.097222</td>\n",
       "      <td>0.060524</td>\n",
       "      <td>1031788800</td>\n",
       "    </tr>\n",
       "    <tr>\n",
       "      <th>1</th>\n",
       "      <td>1986-03-14</td>\n",
       "      <td>0.097222</td>\n",
       "      <td>0.102431</td>\n",
       "      <td>0.097222</td>\n",
       "      <td>0.100694</td>\n",
       "      <td>0.062686</td>\n",
       "      <td>308160000</td>\n",
       "    </tr>\n",
       "    <tr>\n",
       "      <th>2</th>\n",
       "      <td>1986-03-17</td>\n",
       "      <td>0.100694</td>\n",
       "      <td>0.103299</td>\n",
       "      <td>0.100694</td>\n",
       "      <td>0.102431</td>\n",
       "      <td>0.063767</td>\n",
       "      <td>133171200</td>\n",
       "    </tr>\n",
       "    <tr>\n",
       "      <th>3</th>\n",
       "      <td>1986-03-18</td>\n",
       "      <td>0.102431</td>\n",
       "      <td>0.103299</td>\n",
       "      <td>0.098958</td>\n",
       "      <td>0.099826</td>\n",
       "      <td>0.062145</td>\n",
       "      <td>67766400</td>\n",
       "    </tr>\n",
       "    <tr>\n",
       "      <th>4</th>\n",
       "      <td>1986-03-19</td>\n",
       "      <td>0.099826</td>\n",
       "      <td>0.100694</td>\n",
       "      <td>0.097222</td>\n",
       "      <td>0.098090</td>\n",
       "      <td>0.061065</td>\n",
       "      <td>47894400</td>\n",
       "    </tr>\n",
       "    <tr>\n",
       "      <th>...</th>\n",
       "      <td>...</td>\n",
       "      <td>...</td>\n",
       "      <td>...</td>\n",
       "      <td>...</td>\n",
       "      <td>...</td>\n",
       "      <td>...</td>\n",
       "      <td>...</td>\n",
       "    </tr>\n",
       "    <tr>\n",
       "      <th>9420</th>\n",
       "      <td>2023-07-31</td>\n",
       "      <td>336.920013</td>\n",
       "      <td>337.700012</td>\n",
       "      <td>333.359985</td>\n",
       "      <td>335.920013</td>\n",
       "      <td>335.920013</td>\n",
       "      <td>25446000</td>\n",
       "    </tr>\n",
       "    <tr>\n",
       "      <th>9421</th>\n",
       "      <td>2023-08-01</td>\n",
       "      <td>335.190002</td>\n",
       "      <td>338.540009</td>\n",
       "      <td>333.700012</td>\n",
       "      <td>336.339996</td>\n",
       "      <td>336.339996</td>\n",
       "      <td>18311900</td>\n",
       "    </tr>\n",
       "    <tr>\n",
       "      <th>9422</th>\n",
       "      <td>2023-08-02</td>\n",
       "      <td>333.630005</td>\n",
       "      <td>333.630005</td>\n",
       "      <td>326.359985</td>\n",
       "      <td>327.500000</td>\n",
       "      <td>327.500000</td>\n",
       "      <td>27761300</td>\n",
       "    </tr>\n",
       "    <tr>\n",
       "      <th>9423</th>\n",
       "      <td>2023-08-03</td>\n",
       "      <td>326.000000</td>\n",
       "      <td>329.880005</td>\n",
       "      <td>325.950012</td>\n",
       "      <td>326.660004</td>\n",
       "      <td>326.660004</td>\n",
       "      <td>18253700</td>\n",
       "    </tr>\n",
       "    <tr>\n",
       "      <th>9424</th>\n",
       "      <td>2023-08-04</td>\n",
       "      <td>331.880005</td>\n",
       "      <td>335.140015</td>\n",
       "      <td>327.239990</td>\n",
       "      <td>327.779999</td>\n",
       "      <td>327.779999</td>\n",
       "      <td>23727700</td>\n",
       "    </tr>\n",
       "  </tbody>\n",
       "</table>\n",
       "<p>9425 rows × 7 columns</p>\n",
       "</div>"
      ],
      "text/plain": [
       "            Date        Open        High         Low       Close   Adj Close  \\\n",
       "0     1986-03-13    0.088542    0.101563    0.088542    0.097222    0.060524   \n",
       "1     1986-03-14    0.097222    0.102431    0.097222    0.100694    0.062686   \n",
       "2     1986-03-17    0.100694    0.103299    0.100694    0.102431    0.063767   \n",
       "3     1986-03-18    0.102431    0.103299    0.098958    0.099826    0.062145   \n",
       "4     1986-03-19    0.099826    0.100694    0.097222    0.098090    0.061065   \n",
       "...          ...         ...         ...         ...         ...         ...   \n",
       "9420  2023-07-31  336.920013  337.700012  333.359985  335.920013  335.920013   \n",
       "9421  2023-08-01  335.190002  338.540009  333.700012  336.339996  336.339996   \n",
       "9422  2023-08-02  333.630005  333.630005  326.359985  327.500000  327.500000   \n",
       "9423  2023-08-03  326.000000  329.880005  325.950012  326.660004  326.660004   \n",
       "9424  2023-08-04  331.880005  335.140015  327.239990  327.779999  327.779999   \n",
       "\n",
       "          Volume  \n",
       "0     1031788800  \n",
       "1      308160000  \n",
       "2      133171200  \n",
       "3       67766400  \n",
       "4       47894400  \n",
       "...          ...  \n",
       "9420    25446000  \n",
       "9421    18311900  \n",
       "9422    27761300  \n",
       "9423    18253700  \n",
       "9424    23727700  \n",
       "\n",
       "[9425 rows x 7 columns]"
      ]
     },
     "execution_count": 1,
     "metadata": {},
     "output_type": "execute_result"
    }
   ],
   "source": [
    "import pandas as pd \n",
    "dataset_path= (\"C:\\\\Users\\\\sanjay\\\\Downloads\\\\MSFT.csv\")\n",
    "df = pd.read_csv(dataset_path)\n",
    "df"
   ]
  },
  {
   "cell_type": "code",
   "execution_count": 2,
   "id": "af750a89",
   "metadata": {
    "scrolled": false
   },
   "outputs": [
    {
     "data": {
      "text/html": [
       "<div>\n",
       "<style scoped>\n",
       "    .dataframe tbody tr th:only-of-type {\n",
       "        vertical-align: middle;\n",
       "    }\n",
       "\n",
       "    .dataframe tbody tr th {\n",
       "        vertical-align: top;\n",
       "    }\n",
       "\n",
       "    .dataframe thead th {\n",
       "        text-align: right;\n",
       "    }\n",
       "</style>\n",
       "<table border=\"1\" class=\"dataframe\">\n",
       "  <thead>\n",
       "    <tr style=\"text-align: right;\">\n",
       "      <th></th>\n",
       "      <th>Date</th>\n",
       "      <th>Close</th>\n",
       "    </tr>\n",
       "  </thead>\n",
       "  <tbody>\n",
       "    <tr>\n",
       "      <th>0</th>\n",
       "      <td>1986-03-13</td>\n",
       "      <td>0.097222</td>\n",
       "    </tr>\n",
       "    <tr>\n",
       "      <th>1</th>\n",
       "      <td>1986-03-14</td>\n",
       "      <td>0.100694</td>\n",
       "    </tr>\n",
       "    <tr>\n",
       "      <th>2</th>\n",
       "      <td>1986-03-17</td>\n",
       "      <td>0.102431</td>\n",
       "    </tr>\n",
       "    <tr>\n",
       "      <th>3</th>\n",
       "      <td>1986-03-18</td>\n",
       "      <td>0.099826</td>\n",
       "    </tr>\n",
       "    <tr>\n",
       "      <th>4</th>\n",
       "      <td>1986-03-19</td>\n",
       "      <td>0.098090</td>\n",
       "    </tr>\n",
       "    <tr>\n",
       "      <th>...</th>\n",
       "      <td>...</td>\n",
       "      <td>...</td>\n",
       "    </tr>\n",
       "    <tr>\n",
       "      <th>9420</th>\n",
       "      <td>2023-07-31</td>\n",
       "      <td>335.920013</td>\n",
       "    </tr>\n",
       "    <tr>\n",
       "      <th>9421</th>\n",
       "      <td>2023-08-01</td>\n",
       "      <td>336.339996</td>\n",
       "    </tr>\n",
       "    <tr>\n",
       "      <th>9422</th>\n",
       "      <td>2023-08-02</td>\n",
       "      <td>327.500000</td>\n",
       "    </tr>\n",
       "    <tr>\n",
       "      <th>9423</th>\n",
       "      <td>2023-08-03</td>\n",
       "      <td>326.660004</td>\n",
       "    </tr>\n",
       "    <tr>\n",
       "      <th>9424</th>\n",
       "      <td>2023-08-04</td>\n",
       "      <td>327.779999</td>\n",
       "    </tr>\n",
       "  </tbody>\n",
       "</table>\n",
       "<p>9425 rows × 2 columns</p>\n",
       "</div>"
      ],
      "text/plain": [
       "            Date       Close\n",
       "0     1986-03-13    0.097222\n",
       "1     1986-03-14    0.100694\n",
       "2     1986-03-17    0.102431\n",
       "3     1986-03-18    0.099826\n",
       "4     1986-03-19    0.098090\n",
       "...          ...         ...\n",
       "9420  2023-07-31  335.920013\n",
       "9421  2023-08-01  336.339996\n",
       "9422  2023-08-02  327.500000\n",
       "9423  2023-08-03  326.660004\n",
       "9424  2023-08-04  327.779999\n",
       "\n",
       "[9425 rows x 2 columns]"
      ]
     },
     "execution_count": 2,
     "metadata": {},
     "output_type": "execute_result"
    }
   ],
   "source": [
    "df = df[['Date','Close']]\n",
    "df"
   ]
  },
  {
   "cell_type": "code",
   "execution_count": 3,
   "id": "be0654bc",
   "metadata": {},
   "outputs": [
    {
     "data": {
      "text/plain": [
       "0       1986-03-13\n",
       "1       1986-03-14\n",
       "2       1986-03-17\n",
       "3       1986-03-18\n",
       "4       1986-03-19\n",
       "           ...    \n",
       "9420    2023-07-31\n",
       "9421    2023-08-01\n",
       "9422    2023-08-02\n",
       "9423    2023-08-03\n",
       "9424    2023-08-04\n",
       "Name: Date, Length: 9425, dtype: object"
      ]
     },
     "execution_count": 3,
     "metadata": {},
     "output_type": "execute_result"
    }
   ],
   "source": [
    "df[\"Date\"]"
   ]
  },
  {
   "cell_type": "code",
   "execution_count": 4,
   "id": "e29a6219",
   "metadata": {},
   "outputs": [
    {
     "data": {
      "text/plain": [
       "datetime.datetime(1986, 3, 19, 0, 0)"
      ]
     },
     "execution_count": 4,
     "metadata": {},
     "output_type": "execute_result"
    }
   ],
   "source": [
    "import datetime\n",
    "\n",
    "def str_to_datetime(s):\n",
    "    split = s.split('-')\n",
    "    year, month, day = int(split[0]),int(split[1]), int(split[2])\n",
    "    return datetime.datetime(year=year, month=month, day=day)\n",
    "\n",
    "datetime_object = str_to_datetime('1986-03-19')\n",
    "datetime_object"
   ]
  },
  {
   "cell_type": "code",
   "execution_count": 5,
   "id": "ccb22bcc",
   "metadata": {},
   "outputs": [
    {
     "data": {
      "text/html": [
       "<div>\n",
       "<style scoped>\n",
       "    .dataframe tbody tr th:only-of-type {\n",
       "        vertical-align: middle;\n",
       "    }\n",
       "\n",
       "    .dataframe tbody tr th {\n",
       "        vertical-align: top;\n",
       "    }\n",
       "\n",
       "    .dataframe thead th {\n",
       "        text-align: right;\n",
       "    }\n",
       "</style>\n",
       "<table border=\"1\" class=\"dataframe\">\n",
       "  <thead>\n",
       "    <tr style=\"text-align: right;\">\n",
       "      <th></th>\n",
       "      <th>Date</th>\n",
       "      <th>Close</th>\n",
       "    </tr>\n",
       "  </thead>\n",
       "  <tbody>\n",
       "    <tr>\n",
       "      <th>0</th>\n",
       "      <td>1986-03-13</td>\n",
       "      <td>0.097222</td>\n",
       "    </tr>\n",
       "    <tr>\n",
       "      <th>1</th>\n",
       "      <td>1986-03-14</td>\n",
       "      <td>0.100694</td>\n",
       "    </tr>\n",
       "    <tr>\n",
       "      <th>2</th>\n",
       "      <td>1986-03-17</td>\n",
       "      <td>0.102431</td>\n",
       "    </tr>\n",
       "    <tr>\n",
       "      <th>3</th>\n",
       "      <td>1986-03-18</td>\n",
       "      <td>0.099826</td>\n",
       "    </tr>\n",
       "    <tr>\n",
       "      <th>4</th>\n",
       "      <td>1986-03-19</td>\n",
       "      <td>0.098090</td>\n",
       "    </tr>\n",
       "    <tr>\n",
       "      <th>...</th>\n",
       "      <td>...</td>\n",
       "      <td>...</td>\n",
       "    </tr>\n",
       "    <tr>\n",
       "      <th>9420</th>\n",
       "      <td>2023-07-31</td>\n",
       "      <td>335.920013</td>\n",
       "    </tr>\n",
       "    <tr>\n",
       "      <th>9421</th>\n",
       "      <td>2023-08-01</td>\n",
       "      <td>336.339996</td>\n",
       "    </tr>\n",
       "    <tr>\n",
       "      <th>9422</th>\n",
       "      <td>2023-08-02</td>\n",
       "      <td>327.500000</td>\n",
       "    </tr>\n",
       "    <tr>\n",
       "      <th>9423</th>\n",
       "      <td>2023-08-03</td>\n",
       "      <td>326.660004</td>\n",
       "    </tr>\n",
       "    <tr>\n",
       "      <th>9424</th>\n",
       "      <td>2023-08-04</td>\n",
       "      <td>327.779999</td>\n",
       "    </tr>\n",
       "  </tbody>\n",
       "</table>\n",
       "<p>9425 rows × 2 columns</p>\n",
       "</div>"
      ],
      "text/plain": [
       "            Date       Close\n",
       "0     1986-03-13    0.097222\n",
       "1     1986-03-14    0.100694\n",
       "2     1986-03-17    0.102431\n",
       "3     1986-03-18    0.099826\n",
       "4     1986-03-19    0.098090\n",
       "...          ...         ...\n",
       "9420  2023-07-31  335.920013\n",
       "9421  2023-08-01  336.339996\n",
       "9422  2023-08-02  327.500000\n",
       "9423  2023-08-03  326.660004\n",
       "9424  2023-08-04  327.779999\n",
       "\n",
       "[9425 rows x 2 columns]"
      ]
     },
     "execution_count": 5,
     "metadata": {},
     "output_type": "execute_result"
    }
   ],
   "source": [
    "df"
   ]
  },
  {
   "cell_type": "code",
   "execution_count": 6,
   "id": "35aada83",
   "metadata": {},
   "outputs": [
    {
     "name": "stderr",
     "output_type": "stream",
     "text": [
      "C:\\Users\\sanjay\\AppData\\Local\\Temp\\ipykernel_20040\\2565755782.py:1: SettingWithCopyWarning: \n",
      "A value is trying to be set on a copy of a slice from a DataFrame.\n",
      "Try using .loc[row_indexer,col_indexer] = value instead\n",
      "\n",
      "See the caveats in the documentation: https://pandas.pydata.org/pandas-docs/stable/user_guide/indexing.html#returning-a-view-versus-a-copy\n",
      "  df['Date'] = df['Date'].apply(str_to_datetime)\n"
     ]
    },
    {
     "data": {
      "text/plain": [
       "0      1986-03-13\n",
       "1      1986-03-14\n",
       "2      1986-03-17\n",
       "3      1986-03-18\n",
       "4      1986-03-19\n",
       "          ...    \n",
       "9420   2023-07-31\n",
       "9421   2023-08-01\n",
       "9422   2023-08-02\n",
       "9423   2023-08-03\n",
       "9424   2023-08-04\n",
       "Name: Date, Length: 9425, dtype: datetime64[ns]"
      ]
     },
     "execution_count": 6,
     "metadata": {},
     "output_type": "execute_result"
    }
   ],
   "source": [
    "df['Date'] = df['Date'].apply(str_to_datetime)\n",
    "df['Date']"
   ]
  },
  {
   "cell_type": "code",
   "execution_count": 7,
   "id": "214443a4",
   "metadata": {},
   "outputs": [
    {
     "data": {
      "text/html": [
       "<div>\n",
       "<style scoped>\n",
       "    .dataframe tbody tr th:only-of-type {\n",
       "        vertical-align: middle;\n",
       "    }\n",
       "\n",
       "    .dataframe tbody tr th {\n",
       "        vertical-align: top;\n",
       "    }\n",
       "\n",
       "    .dataframe thead th {\n",
       "        text-align: right;\n",
       "    }\n",
       "</style>\n",
       "<table border=\"1\" class=\"dataframe\">\n",
       "  <thead>\n",
       "    <tr style=\"text-align: right;\">\n",
       "      <th></th>\n",
       "      <th>Date</th>\n",
       "      <th>Close</th>\n",
       "    </tr>\n",
       "  </thead>\n",
       "  <tbody>\n",
       "    <tr>\n",
       "      <th>0</th>\n",
       "      <td>1986-03-13</td>\n",
       "      <td>0.097222</td>\n",
       "    </tr>\n",
       "    <tr>\n",
       "      <th>1</th>\n",
       "      <td>1986-03-14</td>\n",
       "      <td>0.100694</td>\n",
       "    </tr>\n",
       "    <tr>\n",
       "      <th>2</th>\n",
       "      <td>1986-03-17</td>\n",
       "      <td>0.102431</td>\n",
       "    </tr>\n",
       "    <tr>\n",
       "      <th>3</th>\n",
       "      <td>1986-03-18</td>\n",
       "      <td>0.099826</td>\n",
       "    </tr>\n",
       "    <tr>\n",
       "      <th>4</th>\n",
       "      <td>1986-03-19</td>\n",
       "      <td>0.098090</td>\n",
       "    </tr>\n",
       "    <tr>\n",
       "      <th>...</th>\n",
       "      <td>...</td>\n",
       "      <td>...</td>\n",
       "    </tr>\n",
       "    <tr>\n",
       "      <th>9420</th>\n",
       "      <td>2023-07-31</td>\n",
       "      <td>335.920013</td>\n",
       "    </tr>\n",
       "    <tr>\n",
       "      <th>9421</th>\n",
       "      <td>2023-08-01</td>\n",
       "      <td>336.339996</td>\n",
       "    </tr>\n",
       "    <tr>\n",
       "      <th>9422</th>\n",
       "      <td>2023-08-02</td>\n",
       "      <td>327.500000</td>\n",
       "    </tr>\n",
       "    <tr>\n",
       "      <th>9423</th>\n",
       "      <td>2023-08-03</td>\n",
       "      <td>326.660004</td>\n",
       "    </tr>\n",
       "    <tr>\n",
       "      <th>9424</th>\n",
       "      <td>2023-08-04</td>\n",
       "      <td>327.779999</td>\n",
       "    </tr>\n",
       "  </tbody>\n",
       "</table>\n",
       "<p>9425 rows × 2 columns</p>\n",
       "</div>"
      ],
      "text/plain": [
       "           Date       Close\n",
       "0    1986-03-13    0.097222\n",
       "1    1986-03-14    0.100694\n",
       "2    1986-03-17    0.102431\n",
       "3    1986-03-18    0.099826\n",
       "4    1986-03-19    0.098090\n",
       "...         ...         ...\n",
       "9420 2023-07-31  335.920013\n",
       "9421 2023-08-01  336.339996\n",
       "9422 2023-08-02  327.500000\n",
       "9423 2023-08-03  326.660004\n",
       "9424 2023-08-04  327.779999\n",
       "\n",
       "[9425 rows x 2 columns]"
      ]
     },
     "execution_count": 7,
     "metadata": {},
     "output_type": "execute_result"
    }
   ],
   "source": [
    "df"
   ]
  },
  {
   "cell_type": "code",
   "execution_count": 8,
   "id": "f3033714",
   "metadata": {},
   "outputs": [
    {
     "data": {
      "text/html": [
       "<div>\n",
       "<style scoped>\n",
       "    .dataframe tbody tr th:only-of-type {\n",
       "        vertical-align: middle;\n",
       "    }\n",
       "\n",
       "    .dataframe tbody tr th {\n",
       "        vertical-align: top;\n",
       "    }\n",
       "\n",
       "    .dataframe thead th {\n",
       "        text-align: right;\n",
       "    }\n",
       "</style>\n",
       "<table border=\"1\" class=\"dataframe\">\n",
       "  <thead>\n",
       "    <tr style=\"text-align: right;\">\n",
       "      <th></th>\n",
       "      <th>Close</th>\n",
       "    </tr>\n",
       "    <tr>\n",
       "      <th>Date</th>\n",
       "      <th></th>\n",
       "    </tr>\n",
       "  </thead>\n",
       "  <tbody>\n",
       "    <tr>\n",
       "      <th>1986-03-13</th>\n",
       "      <td>0.097222</td>\n",
       "    </tr>\n",
       "    <tr>\n",
       "      <th>1986-03-14</th>\n",
       "      <td>0.100694</td>\n",
       "    </tr>\n",
       "    <tr>\n",
       "      <th>1986-03-17</th>\n",
       "      <td>0.102431</td>\n",
       "    </tr>\n",
       "    <tr>\n",
       "      <th>1986-03-18</th>\n",
       "      <td>0.099826</td>\n",
       "    </tr>\n",
       "    <tr>\n",
       "      <th>1986-03-19</th>\n",
       "      <td>0.098090</td>\n",
       "    </tr>\n",
       "    <tr>\n",
       "      <th>...</th>\n",
       "      <td>...</td>\n",
       "    </tr>\n",
       "    <tr>\n",
       "      <th>2023-07-31</th>\n",
       "      <td>335.920013</td>\n",
       "    </tr>\n",
       "    <tr>\n",
       "      <th>2023-08-01</th>\n",
       "      <td>336.339996</td>\n",
       "    </tr>\n",
       "    <tr>\n",
       "      <th>2023-08-02</th>\n",
       "      <td>327.500000</td>\n",
       "    </tr>\n",
       "    <tr>\n",
       "      <th>2023-08-03</th>\n",
       "      <td>326.660004</td>\n",
       "    </tr>\n",
       "    <tr>\n",
       "      <th>2023-08-04</th>\n",
       "      <td>327.779999</td>\n",
       "    </tr>\n",
       "  </tbody>\n",
       "</table>\n",
       "<p>9425 rows × 1 columns</p>\n",
       "</div>"
      ],
      "text/plain": [
       "                 Close\n",
       "Date                  \n",
       "1986-03-13    0.097222\n",
       "1986-03-14    0.100694\n",
       "1986-03-17    0.102431\n",
       "1986-03-18    0.099826\n",
       "1986-03-19    0.098090\n",
       "...                ...\n",
       "2023-07-31  335.920013\n",
       "2023-08-01  336.339996\n",
       "2023-08-02  327.500000\n",
       "2023-08-03  326.660004\n",
       "2023-08-04  327.779999\n",
       "\n",
       "[9425 rows x 1 columns]"
      ]
     },
     "execution_count": 8,
     "metadata": {},
     "output_type": "execute_result"
    }
   ],
   "source": [
    "df.index = df.pop('Date')\n",
    "df"
   ]
  },
  {
   "cell_type": "code",
   "execution_count": 9,
   "id": "586824a3",
   "metadata": {},
   "outputs": [
    {
     "data": {
      "text/plain": [
       "[<matplotlib.lines.Line2D at 0x18759bfdca0>]"
      ]
     },
     "execution_count": 9,
     "metadata": {},
     "output_type": "execute_result"
    },
    {
     "data": {
      "image/png": "[encoded data removed]",
      "text/plain": [
       "<Figure size 432x288 with 1 Axes>"
      ]
     },
     "metadata": {
      "needs_background": "light"
     },
     "output_type": "display_data"
    }
   ],
   "source": [
    "import matplotlib.pyplot as plt\n",
    "plt.plot(df.index, df['Close'])"
   ]
  },
  {
   "cell_type": "code",
   "execution_count": 10,
   "id": "6a9fbe85",
   "metadata": {},
   "outputs": [
    {
     "data": {
      "text/html": [
       "<div>\n",
       "<style scoped>\n",
       "    .dataframe tbody tr th:only-of-type {\n",
       "        vertical-align: middle;\n",
       "    }\n",
       "\n",
       "    .dataframe tbody tr th {\n",
       "        vertical-align: top;\n",
       "    }\n",
       "\n",
       "    .dataframe thead th {\n",
       "        text-align: right;\n",
       "    }\n",
       "</style>\n",
       "<table border=\"1\" class=\"dataframe\">\n",
       "  <thead>\n",
       "    <tr style=\"text-align: right;\">\n",
       "      <th></th>\n",
       "      <th>Target Date</th>\n",
       "      <th>Target-3</th>\n",
       "      <th>Target-2</th>\n",
       "      <th>Target-1</th>\n",
       "      <th>Target</th>\n",
       "    </tr>\n",
       "  </thead>\n",
       "  <tbody>\n",
       "    <tr>\n",
       "      <th>0</th>\n",
       "      <td>2021-03-25</td>\n",
       "      <td>235.990005</td>\n",
       "      <td>237.580002</td>\n",
       "      <td>235.460007</td>\n",
       "      <td>232.339996</td>\n",
       "    </tr>\n",
       "    <tr>\n",
       "      <th>1</th>\n",
       "      <td>2021-03-26</td>\n",
       "      <td>237.580002</td>\n",
       "      <td>235.460007</td>\n",
       "      <td>232.339996</td>\n",
       "      <td>236.479996</td>\n",
       "    </tr>\n",
       "    <tr>\n",
       "      <th>2</th>\n",
       "      <td>2021-03-29</td>\n",
       "      <td>235.460007</td>\n",
       "      <td>232.339996</td>\n",
       "      <td>236.479996</td>\n",
       "      <td>235.240005</td>\n",
       "    </tr>\n",
       "    <tr>\n",
       "      <th>3</th>\n",
       "      <td>2021-03-30</td>\n",
       "      <td>232.339996</td>\n",
       "      <td>236.479996</td>\n",
       "      <td>235.240005</td>\n",
       "      <td>231.850006</td>\n",
       "    </tr>\n",
       "    <tr>\n",
       "      <th>4</th>\n",
       "      <td>2021-03-31</td>\n",
       "      <td>236.479996</td>\n",
       "      <td>235.240005</td>\n",
       "      <td>231.850006</td>\n",
       "      <td>235.770004</td>\n",
       "    </tr>\n",
       "    <tr>\n",
       "      <th>...</th>\n",
       "      <td>...</td>\n",
       "      <td>...</td>\n",
       "      <td>...</td>\n",
       "      <td>...</td>\n",
       "      <td>...</td>\n",
       "    </tr>\n",
       "    <tr>\n",
       "      <th>247</th>\n",
       "      <td>2022-03-17</td>\n",
       "      <td>276.440002</td>\n",
       "      <td>287.149994</td>\n",
       "      <td>294.390015</td>\n",
       "      <td>295.220001</td>\n",
       "    </tr>\n",
       "    <tr>\n",
       "      <th>248</th>\n",
       "      <td>2022-03-18</td>\n",
       "      <td>287.149994</td>\n",
       "      <td>294.390015</td>\n",
       "      <td>295.220001</td>\n",
       "      <td>300.429993</td>\n",
       "    </tr>\n",
       "    <tr>\n",
       "      <th>249</th>\n",
       "      <td>2022-03-21</td>\n",
       "      <td>294.390015</td>\n",
       "      <td>295.220001</td>\n",
       "      <td>300.429993</td>\n",
       "      <td>299.160004</td>\n",
       "    </tr>\n",
       "    <tr>\n",
       "      <th>250</th>\n",
       "      <td>2022-03-22</td>\n",
       "      <td>295.220001</td>\n",
       "      <td>300.429993</td>\n",
       "      <td>299.160004</td>\n",
       "      <td>304.059998</td>\n",
       "    </tr>\n",
       "    <tr>\n",
       "      <th>251</th>\n",
       "      <td>2022-03-23</td>\n",
       "      <td>300.429993</td>\n",
       "      <td>299.160004</td>\n",
       "      <td>304.059998</td>\n",
       "      <td>299.489990</td>\n",
       "    </tr>\n",
       "  </tbody>\n",
       "</table>\n",
       "<p>252 rows × 5 columns</p>\n",
       "</div>"
      ],
      "text/plain": [
       "    Target Date    Target-3    Target-2    Target-1      Target\n",
       "0    2021-03-25  235.990005  237.580002  235.460007  232.339996\n",
       "1    2021-03-26  237.580002  235.460007  232.339996  236.479996\n",
       "2    2021-03-29  235.460007  232.339996  236.479996  235.240005\n",
       "3    2021-03-30  232.339996  236.479996  235.240005  231.850006\n",
       "4    2021-03-31  236.479996  235.240005  231.850006  235.770004\n",
       "..          ...         ...         ...         ...         ...\n",
       "247  2022-03-17  276.440002  287.149994  294.390015  295.220001\n",
       "248  2022-03-18  287.149994  294.390015  295.220001  300.429993\n",
       "249  2022-03-21  294.390015  295.220001  300.429993  299.160004\n",
       "250  2022-03-22  295.220001  300.429993  299.160004  304.059998\n",
       "251  2022-03-23  300.429993  299.160004  304.059998  299.489990\n",
       "\n",
       "[252 rows x 5 columns]"
      ]
     },
     "execution_count": 10,
     "metadata": {},
     "output_type": "execute_result"
    }
   ],
   "source": [
    "import numpy as np\n",
    "\n",
    "def df_to_windowed_df(dataframe, first_date_str, last_date_str, n=3):\n",
    "  first_date = str_to_datetime(first_date_str)\n",
    "  last_date  = str_to_datetime(last_date_str)\n",
    "\n",
    "  target_date = first_date\n",
    "  \n",
    "  dates = []\n",
    "  X, Y = [], []\n",
    "\n",
    "  last_time = False\n",
    "  while True:\n",
    "    df_subset = dataframe.loc[:target_date].tail(n+1)\n",
    "    \n",
    "    if len(df_subset) != n+1:\n",
    "      print(f'Error: Window of size {n} is too large for date {target_date}')\n",
    "      return\n",
    "\n",
    "    values = df_subset['Close'].to_numpy()\n",
    "    x, y = values[:-1], values[-1]\n",
    "\n",
    "    dates.append(target_date)\n",
    "    X.append(x)\n",
    "    Y.append(y)\n",
    "\n",
    "    next_week = dataframe.loc[target_date:target_date+datetime.timedelta(days=7)]\n",
    "    next_datetime_str = str(next_week.head(2).tail(1).index.values[0])\n",
    "    next_date_str = next_datetime_str.split('T')[0]\n",
    "    year_month_day = next_date_str.split('-')\n",
    "    year, month, day = year_month_day\n",
    "    next_date = datetime.datetime(day=int(day), month=int(month), year=int(year))\n",
    "    \n",
    "    if last_time:\n",
    "      break\n",
    "    \n",
    "    target_date = next_date\n",
    "\n",
    "    if target_date == last_date:\n",
    "      last_time = True\n",
    "    \n",
    "  ret_df = pd.DataFrame({})\n",
    "  ret_df['Target Date'] = dates\n",
    "  \n",
    "  X = np.array(X)\n",
    "  for i in range(0, n):\n",
    "    X[:, i]\n",
    "    ret_df[f'Target-{n-i}'] = X[:, i]\n",
    "  \n",
    "  ret_df['Target'] = Y\n",
    "\n",
    "  return ret_df\n",
    "windowed_df = df_to_windowed_df(df, \n",
    "                                '2021-03-25', \n",
    "                                '2022-03-23', \n",
    "                                n=3)\n",
    "windowed_df"
   ]
  },
  {
   "cell_type": "code",
   "execution_count": 11,
   "id": "1ea0f501",
   "metadata": {},
   "outputs": [
    {
     "data": {
      "text/plain": [
       "((252,), (252, 3, 1), (252,))"
      ]
     },
     "execution_count": 11,
     "metadata": {},
     "output_type": "execute_result"
    }
   ],
   "source": [
    "def windowed_df_to_date_X_y(windowed_dataframe):\n",
    "  df_as_np = windowed_dataframe.to_numpy()\n",
    "\n",
    "  dates = df_as_np[:, 0]\n",
    "\n",
    "  middle_matrix = df_as_np[:, 1:-1]\n",
    "  X = middle_matrix.reshape((len(dates), middle_matrix.shape[1], 1))\n",
    "\n",
    "  Y = df_as_np[:, -1]\n",
    "\n",
    "  return dates, X.astype(np.float32), Y.astype(np.float32)\n",
    "\n",
    "dates, X, y = windowed_df_to_date_X_y(windowed_df)\n",
    "\n",
    "dates.shape, X.shape, y.shape"
   ]
  },
  {
   "cell_type": "code",
   "execution_count": 12,
   "id": "1a54a4f4",
   "metadata": {},
   "outputs": [
    {
     "data": {
      "text/plain": [
       "<matplotlib.legend.Legend at 0x1875cf993d0>"
      ]
     },
     "execution_count": 12,
     "metadata": {},
     "output_type": "execute_result"
    },
    {
     "data": {
      "image/png": "[encoded data removed]",
      "text/plain": [
       "<Figure size 432x288 with 1 Axes>"
      ]
     },
     "metadata": {
      "needs_background": "light"
     },
     "output_type": "display_data"
    }
   ],
   "source": [
    "q_80 = int(len(dates) * .8)\n",
    "q_90 = int(len(dates) * .9)\n",
    "\n",
    "dates_train, X_train, y_train = dates[:q_80], X[:q_80], y[:q_80]\n",
    "\n",
    "dates_val, X_val, y_val = dates[q_80:q_90], X[q_80:q_90], y[q_80:q_90]\n",
    "dates_test, X_test, y_test = dates[q_90:], X[q_90:], y[q_90:]\n",
    "\n",
    "plt.plot(dates_train, y_train)\n",
    "plt.plot(dates_val, y_val)\n",
    "plt.plot(dates_test, y_test)\n",
    "\n",
    "plt.legend(['Train', 'Validation', 'Test'])"
   ]
  },
  {
   "cell_type": "code",
   "execution_count": 13,
   "id": "04bc7c15",
   "metadata": {},
   "outputs": [
    {
     "name": "stderr",
     "output_type": "stream",
     "text": [
      "C:\\ProgramData\\Anaconda3\\lib\\site-packages\\scipy\\__init__.py:146: UserWarning: A NumPy version >=1.16.5 and <1.23.0 is required for this version of SciPy (detected version 1.24.3\n",
      "  warnings.warn(f\"A NumPy version >={np_minversion} and <{np_maxversion}\"\n"
     ]
    },
    {
     "name": "stdout",
     "output_type": "stream",
     "text": [
      "Epoch 1/100\n",
      "7/7 [==============================] - 3s 88ms/step - loss: 84586.1016 - mean_absolute_error: 289.0952 - val_loss: 92247.1797 - val_mean_absolute_error: 303.6350\n",
      "Epoch 2/100\n",
      "7/7 [==============================] - 0s 11ms/step - loss: 84303.6641 - mean_absolute_error: 288.6064 - val_loss: 91938.6016 - val_mean_absolute_error: 303.1264\n",
      "Epoch 3/100\n",
      "7/7 [==============================] - 0s 9ms/step - loss: 83984.8750 - mean_absolute_error: 288.0537 - val_loss: 91550.5625 - val_mean_absolute_error: 302.4857\n",
      "Epoch 4/100\n",
      "7/7 [==============================] - 0s 10ms/step - loss: 83595.5000 - mean_absolute_error: 287.3765 - val_loss: 91103.7266 - val_mean_absolute_error: 301.7462\n",
      "Epoch 5/100\n",
      "7/7 [==============================] - 0s 10ms/step - loss: 83149.6328 - mean_absolute_error: 286.5995 - val_loss: 90593.6016 - val_mean_absolute_error: 300.8997\n",
      "Epoch 6/100\n",
      "7/7 [==============================] - 0s 10ms/step - loss: 82620.0781 - mean_absolute_error: 285.6760 - val_loss: 89952.0312 - val_mean_absolute_error: 299.8317\n",
      "Epoch 7/100\n",
      "7/7 [==============================] - 0s 10ms/step - loss: 81923.2891 - mean_absolute_error: 284.4475 - val_loss: 89033.6328 - val_mean_absolute_error: 298.2962\n",
      "Epoch 8/100\n",
      "7/7 [==============================] - 0s 9ms/step - loss: 80905.1953 - mean_absolute_error: 282.6515 - val_loss: 87698.4297 - val_mean_absolute_error: 296.0497\n",
      "Epoch 9/100\n",
      "7/7 [==============================] - 0s 9ms/step - loss: 79484.9688 - mean_absolute_error: 280.1306 - val_loss: 85957.2578 - val_mean_absolute_error: 293.0942\n",
      "Epoch 10/100\n",
      "7/7 [==============================] - 0s 11ms/step - loss: 77650.2266 - mean_absolute_error: 276.8336 - val_loss: 83630.7891 - val_mean_absolute_error: 289.0980\n",
      "Epoch 11/100\n",
      "7/7 [==============================] - 0s 9ms/step - loss: 75172.1797 - mean_absolute_error: 272.3048 - val_loss: 80585.2969 - val_mean_absolute_error: 283.7820\n",
      "Epoch 12/100\n",
      "7/7 [==============================] - 0s 9ms/step - loss: 72171.8984 - mean_absolute_error: 266.7695 - val_loss: 77406.9062 - val_mean_absolute_error: 278.1257\n",
      "Epoch 13/100\n",
      "7/7 [==============================] - 0s 10ms/step - loss: 69117.5000 - mean_absolute_error: 260.9516 - val_loss: 73809.5312 - val_mean_absolute_error: 271.5813\n",
      "Epoch 14/100\n",
      "7/7 [==============================] - 0s 10ms/step - loss: 65265.5469 - mean_absolute_error: 253.4401 - val_loss: 69032.4531 - val_mean_absolute_error: 262.6393\n",
      "Epoch 15/100\n",
      "7/7 [==============================] - 0s 10ms/step - loss: 60598.6016 - mean_absolute_error: 244.0977 - val_loss: 63919.8438 - val_mean_absolute_error: 252.7187\n",
      "Epoch 16/100\n",
      "7/7 [==============================] - 0s 9ms/step - loss: 55594.0859 - mean_absolute_error: 233.5812 - val_loss: 58056.1289 - val_mean_absolute_error: 240.8383\n",
      "Epoch 17/100\n",
      "7/7 [==============================] - 0s 10ms/step - loss: 49902.7617 - mean_absolute_error: 221.0483 - val_loss: 51946.8359 - val_mean_absolute_error: 227.8023\n",
      "Epoch 18/100\n",
      "7/7 [==============================] - 0s 10ms/step - loss: 44243.1250 - mean_absolute_error: 207.9398 - val_loss: 45984.7656 - val_mean_absolute_error: 214.3171\n",
      "Epoch 19/100\n",
      "7/7 [==============================] - 0s 10ms/step - loss: 38661.5078 - mean_absolute_error: 193.9784 - val_loss: 39884.1328 - val_mean_absolute_error: 199.5775\n",
      "Epoch 20/100\n",
      "7/7 [==============================] - 0s 10ms/step - loss: 32990.7695 - mean_absolute_error: 178.8096 - val_loss: 33807.3047 - val_mean_absolute_error: 183.7235\n",
      "Epoch 21/100\n",
      "7/7 [==============================] - 0s 10ms/step - loss: 27414.8457 - mean_absolute_error: 162.5031 - val_loss: 27768.9551 - val_mean_absolute_error: 166.4805\n",
      "Epoch 22/100\n",
      "7/7 [==============================] - 0s 11ms/step - loss: 21958.2168 - mean_absolute_error: 144.4909 - val_loss: 21793.4043 - val_mean_absolute_error: 147.4455\n",
      "Epoch 23/100\n",
      "7/7 [==============================] - 0s 9ms/step - loss: 16674.0469 - mean_absolute_error: 125.0045 - val_loss: 16394.6934 - val_mean_absolute_error: 127.8348\n",
      "Epoch 24/100\n",
      "7/7 [==============================] - 0s 11ms/step - loss: 12221.5742 - mean_absolute_error: 105.7496 - val_loss: 11883.1338 - val_mean_absolute_error: 108.7666\n",
      "Epoch 25/100\n",
      "7/7 [==============================] - 0s 9ms/step - loss: 8550.2393 - mean_absolute_error: 86.7944 - val_loss: 8175.8130 - val_mean_absolute_error: 90.1268\n",
      "Epoch 26/100\n",
      "7/7 [==============================] - 0s 10ms/step - loss: 5744.5293 - mean_absolute_error: 68.4479 - val_loss: 5309.0845 - val_mean_absolute_error: 72.4991\n",
      "Epoch 27/100\n",
      "7/7 [==============================] - 0s 8ms/step - loss: 3677.7307 - mean_absolute_error: 51.7914 - val_loss: 3268.3748 - val_mean_absolute_error: 56.7046\n",
      "Epoch 28/100\n",
      "7/7 [==============================] - 0s 8ms/step - loss: 2350.9512 - mean_absolute_error: 39.2449 - val_loss: 1903.4030 - val_mean_absolute_error: 43.0162\n",
      "Epoch 29/100\n",
      "7/7 [==============================] - 0s 8ms/step - loss: 1586.2279 - mean_absolute_error: 32.8530 - val_loss: 984.0789 - val_mean_absolute_error: 30.5091\n",
      "Epoch 30/100\n",
      "7/7 [==============================] - 0s 8ms/step - loss: 1180.9631 - mean_absolute_error: 29.0023 - val_loss: 503.3381 - val_mean_absolute_error: 21.2220\n",
      "Epoch 31/100\n",
      "7/7 [==============================] - 0s 9ms/step - loss: 1025.5925 - mean_absolute_error: 27.1440 - val_loss: 316.9577 - val_mean_absolute_error: 16.2479\n",
      "Epoch 32/100\n",
      "7/7 [==============================] - 0s 9ms/step - loss: 1013.5179 - mean_absolute_error: 26.8929 - val_loss: 235.3995 - val_mean_absolute_error: 13.6841\n",
      "Epoch 33/100\n",
      "7/7 [==============================] - 0s 9ms/step - loss: 1013.0389 - mean_absolute_error: 26.9320 - val_loss: 215.6467 - val_mean_absolute_error: 12.9921\n",
      "Epoch 34/100\n",
      "7/7 [==============================] - 0s 8ms/step - loss: 1014.4020 - mean_absolute_error: 26.9288 - val_loss: 214.9193 - val_mean_absolute_error: 12.9658\n",
      "Epoch 35/100\n",
      "7/7 [==============================] - 0s 9ms/step - loss: 1014.7735 - mean_absolute_error: 26.9338 - val_loss: 215.5840 - val_mean_absolute_error: 12.9898\n",
      "Epoch 36/100\n",
      "7/7 [==============================] - 0s 9ms/step - loss: 1014.0273 - mean_absolute_error: 26.9338 - val_loss: 231.3862 - val_mean_absolute_error: 13.5467\n",
      "Epoch 37/100\n",
      "7/7 [==============================] - 0s 9ms/step - loss: 1012.5505 - mean_absolute_error: 26.9083 - val_loss: 252.1309 - val_mean_absolute_error: 14.2414\n",
      "Epoch 38/100\n",
      "7/7 [==============================] - 0s 9ms/step - loss: 1010.3525 - mean_absolute_error: 26.8712 - val_loss: 256.9816 - val_mean_absolute_error: 14.3986\n",
      "Epoch 39/100\n",
      "7/7 [==============================] - 0s 9ms/step - loss: 1009.7168 - mean_absolute_error: 26.8586 - val_loss: 268.0327 - val_mean_absolute_error: 14.7498\n",
      "Epoch 40/100\n",
      "7/7 [==============================] - 0s 8ms/step - loss: 1010.6960 - mean_absolute_error: 26.8611 - val_loss: 291.7389 - val_mean_absolute_error: 15.4739\n",
      "Epoch 41/100\n",
      "7/7 [==============================] - 0s 9ms/step - loss: 1010.2341 - mean_absolute_error: 26.8650 - val_loss: 300.9492 - val_mean_absolute_error: 15.7475\n",
      "Epoch 42/100\n",
      "7/7 [==============================] - 0s 9ms/step - loss: 1010.7584 - mean_absolute_error: 26.8743 - val_loss: 291.3927 - val_mean_absolute_error: 15.4636\n",
      "Epoch 43/100\n",
      "7/7 [==============================] - 0s 9ms/step - loss: 1010.0095 - mean_absolute_error: 26.8590 - val_loss: 283.1616 - val_mean_absolute_error: 15.2163\n",
      "Epoch 44/100\n",
      "7/7 [==============================] - 0s 8ms/step - loss: 1009.2225 - mean_absolute_error: 26.8533 - val_loss: 266.4425 - val_mean_absolute_error: 14.7015\n",
      "Epoch 45/100\n",
      "7/7 [==============================] - 0s 9ms/step - loss: 998.0334 - mean_absolute_error: 26.7111 - val_loss: 326.8851 - val_mean_absolute_error: 16.5744\n",
      "Epoch 46/100\n",
      "7/7 [==============================] - 0s 8ms/step - loss: 991.0765 - mean_absolute_error: 26.6186 - val_loss: 276.9550 - val_mean_absolute_error: 15.0426\n",
      "Epoch 47/100\n",
      "7/7 [==============================] - 0s 9ms/step - loss: 988.2071 - mean_absolute_error: 26.5297 - val_loss: 314.0406 - val_mean_absolute_error: 16.1897\n",
      "Epoch 48/100\n",
      "7/7 [==============================] - 0s 8ms/step - loss: 978.5513 - mean_absolute_error: 26.3770 - val_loss: 311.5432 - val_mean_absolute_error: 16.1500\n",
      "Epoch 49/100\n",
      "7/7 [==============================] - 0s 9ms/step - loss: 930.3781 - mean_absolute_error: 25.7992 - val_loss: 497.6881 - val_mean_absolute_error: 21.1900\n",
      "Epoch 50/100\n",
      "7/7 [==============================] - 0s 8ms/step - loss: 932.6453 - mean_absolute_error: 25.8282 - val_loss: 254.4771 - val_mean_absolute_error: 14.3897\n",
      "Epoch 51/100\n",
      "7/7 [==============================] - 0s 8ms/step - loss: 847.5137 - mean_absolute_error: 24.6877 - val_loss: 335.4489 - val_mean_absolute_error: 16.9890\n",
      "Epoch 52/100\n",
      "7/7 [==============================] - 0s 8ms/step - loss: 799.5009 - mean_absolute_error: 23.8745 - val_loss: 336.8087 - val_mean_absolute_error: 17.0545\n",
      "Epoch 53/100\n",
      "7/7 [==============================] - 0s 8ms/step - loss: 765.0193 - mean_absolute_error: 23.3132 - val_loss: 256.6532 - val_mean_absolute_error: 14.5544\n",
      "Epoch 54/100\n",
      "7/7 [==============================] - 0s 8ms/step - loss: 710.0958 - mean_absolute_error: 22.4018 - val_loss: 397.9633 - val_mean_absolute_error: 18.8694\n",
      "Epoch 55/100\n",
      "7/7 [==============================] - 0s 8ms/step - loss: 681.6082 - mean_absolute_error: 22.2595 - val_loss: 305.2339 - val_mean_absolute_error: 16.2398\n",
      "Epoch 56/100\n",
      "7/7 [==============================] - 0s 9ms/step - loss: 650.5168 - mean_absolute_error: 21.5402 - val_loss: 280.8301 - val_mean_absolute_error: 15.5017\n",
      "Epoch 57/100\n",
      "7/7 [==============================] - 0s 8ms/step - loss: 633.5950 - mean_absolute_error: 21.1681 - val_loss: 168.7030 - val_mean_absolute_error: 11.5106\n",
      "Epoch 58/100\n",
      "7/7 [==============================] - 0s 8ms/step - loss: 542.6708 - mean_absolute_error: 19.4410 - val_loss: 116.8594 - val_mean_absolute_error: 9.1612\n",
      "Epoch 59/100\n",
      "7/7 [==============================] - 0s 9ms/step - loss: 509.1247 - mean_absolute_error: 18.8340 - val_loss: 125.7092 - val_mean_absolute_error: 9.6630\n",
      "Epoch 60/100\n",
      "7/7 [==============================] - 0s 8ms/step - loss: 438.1555 - mean_absolute_error: 17.2495 - val_loss: 788.2399 - val_mean_absolute_error: 27.4639\n",
      "Epoch 61/100\n",
      "7/7 [==============================] - 0s 9ms/step - loss: 570.1027 - mean_absolute_error: 20.4311 - val_loss: 290.1347 - val_mean_absolute_error: 16.0012\n",
      "Epoch 62/100\n",
      "7/7 [==============================] - 0s 8ms/step - loss: 442.5033 - mean_absolute_error: 17.6444 - val_loss: 68.1888 - val_mean_absolute_error: 6.6557\n",
      "Epoch 63/100\n",
      "7/7 [==============================] - 0s 8ms/step - loss: 368.5435 - mean_absolute_error: 15.5845 - val_loss: 57.4134 - val_mean_absolute_error: 6.0626\n",
      "Epoch 64/100\n",
      "7/7 [==============================] - 0s 9ms/step - loss: 315.7288 - mean_absolute_error: 14.5221 - val_loss: 119.0357 - val_mean_absolute_error: 9.4715\n",
      "Epoch 65/100\n",
      "7/7 [==============================] - 0s 9ms/step - loss: 271.0146 - mean_absolute_error: 13.2237 - val_loss: 80.1361 - val_mean_absolute_error: 7.4286\n",
      "Epoch 66/100\n",
      "7/7 [==============================] - 0s 8ms/step - loss: 238.4948 - mean_absolute_error: 12.2747 - val_loss: 48.0630 - val_mean_absolute_error: 5.5710\n",
      "Epoch 67/100\n",
      "7/7 [==============================] - 0s 8ms/step - loss: 216.7438 - mean_absolute_error: 11.7717 - val_loss: 34.6487 - val_mean_absolute_error: 5.0290\n",
      "Epoch 68/100\n",
      "7/7 [==============================] - 0s 9ms/step - loss: 193.5483 - mean_absolute_error: 11.2261 - val_loss: 37.1024 - val_mean_absolute_error: 5.1456\n",
      "Epoch 69/100\n",
      "7/7 [==============================] - 0s 9ms/step - loss: 165.9187 - mean_absolute_error: 10.6546 - val_loss: 31.7749 - val_mean_absolute_error: 4.8551\n",
      "Epoch 70/100\n",
      "7/7 [==============================] - 0s 9ms/step - loss: 124.2775 - mean_absolute_error: 8.5178 - val_loss: 41.4311 - val_mean_absolute_error: 5.3686\n",
      "Epoch 71/100\n",
      "7/7 [==============================] - 0s 9ms/step - loss: 127.2297 - mean_absolute_error: 8.7743 - val_loss: 63.2693 - val_mean_absolute_error: 6.3836\n",
      "Epoch 72/100\n",
      "7/7 [==============================] - 0s 8ms/step - loss: 135.4527 - mean_absolute_error: 9.6684 - val_loss: 63.8591 - val_mean_absolute_error: 6.3899\n",
      "Epoch 73/100\n",
      "7/7 [==============================] - 0s 8ms/step - loss: 123.0089 - mean_absolute_error: 9.2023 - val_loss: 44.3406 - val_mean_absolute_error: 5.3491\n",
      "Epoch 74/100\n",
      "7/7 [==============================] - 0s 8ms/step - loss: 102.2794 - mean_absolute_error: 8.4859 - val_loss: 34.0473 - val_mean_absolute_error: 4.8767\n",
      "Epoch 75/100\n",
      "7/7 [==============================] - 0s 9ms/step - loss: 77.0246 - mean_absolute_error: 6.9764 - val_loss: 32.7352 - val_mean_absolute_error: 4.8451\n",
      "Epoch 76/100\n",
      "7/7 [==============================] - 0s 8ms/step - loss: 56.9785 - mean_absolute_error: 5.8154 - val_loss: 30.4414 - val_mean_absolute_error: 4.8067\n",
      "Epoch 77/100\n",
      "7/7 [==============================] - 0s 9ms/step - loss: 48.8872 - mean_absolute_error: 5.1792 - val_loss: 39.8004 - val_mean_absolute_error: 5.0926\n",
      "Epoch 78/100\n",
      "7/7 [==============================] - 0s 8ms/step - loss: 49.5986 - mean_absolute_error: 5.4884 - val_loss: 36.8363 - val_mean_absolute_error: 4.9697\n",
      "Epoch 79/100\n",
      "7/7 [==============================] - 0s 8ms/step - loss: 40.1111 - mean_absolute_error: 4.7214 - val_loss: 44.6050 - val_mean_absolute_error: 5.3343\n",
      "Epoch 80/100\n",
      "7/7 [==============================] - 0s 8ms/step - loss: 39.4866 - mean_absolute_error: 4.8882 - val_loss: 68.0587 - val_mean_absolute_error: 6.5718\n",
      "Epoch 81/100\n",
      "7/7 [==============================] - 0s 8ms/step - loss: 37.2995 - mean_absolute_error: 4.7521 - val_loss: 69.3583 - val_mean_absolute_error: 6.6436\n",
      "Epoch 82/100\n",
      "7/7 [==============================] - 0s 8ms/step - loss: 34.7780 - mean_absolute_error: 4.5402 - val_loss: 62.8005 - val_mean_absolute_error: 6.2456\n",
      "Epoch 83/100\n",
      "7/7 [==============================] - 0s 8ms/step - loss: 37.4250 - mean_absolute_error: 4.8123 - val_loss: 61.8411 - val_mean_absolute_error: 6.2029\n",
      "Epoch 84/100\n",
      "7/7 [==============================] - 0s 8ms/step - loss: 31.3488 - mean_absolute_error: 4.4419 - val_loss: 94.6018 - val_mean_absolute_error: 8.1068\n",
      "Epoch 85/100\n",
      "7/7 [==============================] - 0s 8ms/step - loss: 40.1445 - mean_absolute_error: 5.1235 - val_loss: 69.4737 - val_mean_absolute_error: 6.6279\n",
      "Epoch 86/100\n",
      "7/7 [==============================] - 0s 8ms/step - loss: 31.5349 - mean_absolute_error: 4.3372 - val_loss: 88.6736 - val_mean_absolute_error: 7.7898\n",
      "Epoch 87/100\n",
      "7/7 [==============================] - 0s 8ms/step - loss: 31.2825 - mean_absolute_error: 4.4065 - val_loss: 86.3058 - val_mean_absolute_error: 7.6537\n",
      "Epoch 88/100\n",
      "7/7 [==============================] - 0s 9ms/step - loss: 32.1889 - mean_absolute_error: 4.6572 - val_loss: 92.9204 - val_mean_absolute_error: 8.0188\n",
      "Epoch 89/100\n",
      "7/7 [==============================] - 0s 8ms/step - loss: 30.8106 - mean_absolute_error: 4.4853 - val_loss: 59.1288 - val_mean_absolute_error: 6.1550\n",
      "Epoch 90/100\n",
      "7/7 [==============================] - 0s 8ms/step - loss: 23.1042 - mean_absolute_error: 3.7693 - val_loss: 41.2016 - val_mean_absolute_error: 5.1968\n",
      "Epoch 91/100\n",
      "7/7 [==============================] - 0s 8ms/step - loss: 22.5171 - mean_absolute_error: 3.7695 - val_loss: 42.2558 - val_mean_absolute_error: 5.2730\n",
      "Epoch 92/100\n",
      "7/7 [==============================] - 0s 8ms/step - loss: 21.8529 - mean_absolute_error: 3.7331 - val_loss: 48.6216 - val_mean_absolute_error: 5.6715\n",
      "Epoch 93/100\n",
      "7/7 [==============================] - 0s 8ms/step - loss: 21.7908 - mean_absolute_error: 3.7216 - val_loss: 34.2141 - val_mean_absolute_error: 4.7842\n",
      "Epoch 94/100\n",
      "7/7 [==============================] - 0s 8ms/step - loss: 21.2436 - mean_absolute_error: 3.5965 - val_loss: 33.5009 - val_mean_absolute_error: 4.7550\n",
      "Epoch 95/100\n",
      "7/7 [==============================] - 0s 8ms/step - loss: 22.0763 - mean_absolute_error: 3.8317 - val_loss: 34.5269 - val_mean_absolute_error: 4.7641\n",
      "Epoch 96/100\n",
      "7/7 [==============================] - 0s 8ms/step - loss: 24.8272 - mean_absolute_error: 3.8787 - val_loss: 41.6945 - val_mean_absolute_error: 5.2227\n",
      "Epoch 97/100\n",
      "7/7 [==============================] - 0s 8ms/step - loss: 18.8646 - mean_absolute_error: 3.4231 - val_loss: 44.5259 - val_mean_absolute_error: 5.4259\n",
      "Epoch 98/100\n",
      "7/7 [==============================] - 0s 10ms/step - loss: 19.4189 - mean_absolute_error: 3.4605 - val_loss: 40.0152 - val_mean_absolute_error: 5.1064\n",
      "Epoch 99/100\n",
      "7/7 [==============================] - 0s 9ms/step - loss: 18.4239 - mean_absolute_error: 3.4352 - val_loss: 41.2257 - val_mean_absolute_error: 5.1893\n",
      "Epoch 100/100\n",
      "7/7 [==============================] - 0s 8ms/step - loss: 18.1724 - mean_absolute_error: 3.3923 - val_loss: 34.3468 - val_mean_absolute_error: 4.7431\n"
     ]
    },
    {
     "data": {
      "text/plain": [
       "<keras.src.callbacks.History at 0x18766d27a90>"
      ]
     },
     "execution_count": 13,
     "metadata": {},
     "output_type": "execute_result"
    }
   ],
   "source": [
    "from tensorflow.keras.models import Sequential\n",
    "from tensorflow.keras.optimizers import Adam\n",
    "from tensorflow.keras import layers\n",
    "\n",
    "model = Sequential([layers.Input((3, 1)),\n",
    "                    layers.LSTM(64),\n",
    "                    layers.Dense(32, activation='relu'),\n",
    "                    layers.Dense(32, activation='relu'),\n",
    "                    layers.Dense(1)])\n",
    "\n",
    "model.compile(loss='mse', \n",
    "              optimizer=Adam(learning_rate=0.001),\n",
    "              metrics=['mean_absolute_error'])\n",
    "\n",
    "model.fit(X_train, y_train, validation_data=(X_val, y_val), epochs=100)"
   ]
  },
  {
   "cell_type": "code",
   "execution_count": 14,
   "id": "fc622c40",
   "metadata": {},
   "outputs": [
    {
     "name": "stdout",
     "output_type": "stream",
     "text": [
      "7/7 [==============================] - 0s 3ms/step\n"
     ]
    },
    {
     "data": {
      "text/plain": [
       "<matplotlib.legend.Legend at 0x1876b665280>"
      ]
     },
     "execution_count": 14,
     "metadata": {},
     "output_type": "execute_result"
    },
    {
     "data": {
      "image/png": "[encoded data removed]",
      "text/plain": [
       "<Figure size 432x288 with 1 Axes>"
      ]
     },
     "metadata": {
      "needs_background": "light"
     },
     "output_type": "display_data"
    }
   ],
   "source": [
    "train_predictions = model.predict(X_train).flatten()\n",
    "\n",
    "plt.plot(dates_train, train_predictions)\n",
    "plt.plot(dates_train, y_train)\n",
    "plt.legend(['Training Predictions', 'Training Observations'])"
   ]
  },
  {
   "cell_type": "code",
   "execution_count": 15,
   "id": "9ab58121",
   "metadata": {},
   "outputs": [
    {
     "name": "stdout",
     "output_type": "stream",
     "text": [
      "1/1 [==============================] - 0s 27ms/step\n"
     ]
    },
    {
     "data": {
      "text/plain": [
       "<matplotlib.legend.Legend at 0x1876b6fee80>"
      ]
     },
     "execution_count": 15,
     "metadata": {},
     "output_type": "execute_result"
    },
    {
     "data": {
      "image/png": "[encoded data removed]",
      "text/plain": [
       "<Figure size 432x288 with 1 Axes>"
      ]
     },
     "metadata": {
      "needs_background": "light"
     },
     "output_type": "display_data"
    }
   ],
   "source": [
    "val_predictions = model.predict(X_val).flatten()\n",
    "\n",
    "plt.plot(dates_val, val_predictions)\n",
    "plt.plot(dates_val, y_val)\n",
    "plt.legend(['Validation Predictions', 'Validation Observations'])"
   ]
  },
  {
   "cell_type": "code",
   "execution_count": 16,
   "id": "d158eca8",
   "metadata": {},
   "outputs": [
    {
     "name": "stdout",
     "output_type": "stream",
     "text": [
      "1/1 [==============================] - 0s 22ms/step\n"
     ]
    },
    {
     "data": {
      "text/plain": [
       "<matplotlib.legend.Legend at 0x1876b778af0>"
      ]
     },
     "execution_count": 16,
     "metadata": {},
     "output_type": "execute_result"
    },
    {
     "data": {
      "image/png": "[encoded data removed]",
      "text/plain": [
       "<Figure size 432x288 with 1 Axes>"
      ]
     },
     "metadata": {
      "needs_background": "light"
     },
     "output_type": "display_data"
    }
   ],
   "source": [
    "test_predictions = model.predict(X_test).flatten()\n",
    "\n",
    "plt.plot(dates_test, test_predictions)\n",
    "plt.plot(dates_test, y_test)\n",
    "plt.legend(['Testing Predictions', 'Testing Observations'])"
   ]
  },
  {
   "cell_type": "code",
   "execution_count": 17,
   "id": "a07175d8",
   "metadata": {},
   "outputs": [
    {
     "data": {
      "text/plain": [
       "<matplotlib.legend.Legend at 0x187680f1d00>"
      ]
     },
     "execution_count": 17,
     "metadata": {},
     "output_type": "execute_result"
    },
    {
     "data": {
      "image/png": "[encoded data removed]",
      "text/plain": [
       "<Figure size 432x288 with 1 Axes>"
      ]
     },
     "metadata": {
      "needs_background": "light"
     },
     "output_type": "display_data"
    }
   ],
   "source": [
    "plt.plot(dates_train, train_predictions)\n",
    "plt.plot(dates_train, y_train)\n",
    "plt.plot(dates_val, val_predictions)\n",
    "plt.plot(dates_val, y_val)\n",
    "plt.plot(dates_test, test_predictions)\n",
    "plt.plot(dates_test, y_test)\n",
    "plt.legend(['Training Predictions', \n",
    "            'Training Observations',\n",
    "            'Validation Predictions', \n",
    "            'Validation Observations',\n",
    "            'Testing Predictions', \n",
    "            'Testing Observations'])"
   ]
  },
  {
   "cell_type": "code",
   "execution_count": 18,
   "id": "0af4a92a",
   "metadata": {},
   "outputs": [
    {
     "name": "stdout",
     "output_type": "stream",
     "text": [
      "1/1 [==============================] - 0s 25ms/step\n",
      "1/1 [==============================] - 0s 22ms/step\n",
      "1/1 [==============================] - 0s 20ms/step\n",
      "1/1 [==============================] - 0s 24ms/step\n",
      "1/1 [==============================] - 0s 23ms/step\n",
      "1/1 [==============================] - 0s 24ms/step\n",
      "1/1 [==============================] - 0s 21ms/step\n",
      "1/1 [==============================] - 0s 22ms/step\n",
      "1/1 [==============================] - 0s 22ms/step\n",
      "1/1 [==============================] - 0s 22ms/step\n",
      "1/1 [==============================] - 0s 23ms/step\n",
      "1/1 [==============================] - 0s 21ms/step\n",
      "1/1 [==============================] - 0s 23ms/step\n",
      "1/1 [==============================] - 0s 23ms/step\n",
      "1/1 [==============================] - 0s 23ms/step\n",
      "1/1 [==============================] - 0s 25ms/step\n",
      "1/1 [==============================] - 0s 22ms/step\n",
      "1/1 [==============================] - 0s 23ms/step\n",
      "1/1 [==============================] - 0s 22ms/step\n",
      "1/1 [==============================] - 0s 23ms/step\n",
      "1/1 [==============================] - 0s 23ms/step\n",
      "1/1 [==============================] - 0s 23ms/step\n",
      "1/1 [==============================] - 0s 23ms/step\n",
      "1/1 [==============================] - 0s 23ms/step\n",
      "1/1 [==============================] - 0s 23ms/step\n",
      "1/1 [==============================] - 0s 24ms/step\n",
      "1/1 [==============================] - 0s 23ms/step\n",
      "1/1 [==============================] - 0s 23ms/step\n",
      "1/1 [==============================] - 0s 23ms/step\n",
      "1/1 [==============================] - 0s 23ms/step\n",
      "1/1 [==============================] - 0s 24ms/step\n",
      "1/1 [==============================] - 0s 23ms/step\n",
      "1/1 [==============================] - 0s 25ms/step\n",
      "1/1 [==============================] - 0s 34ms/step\n",
      "1/1 [==============================] - 0s 22ms/step\n",
      "1/1 [==============================] - 0s 22ms/step\n",
      "1/1 [==============================] - 0s 22ms/step\n",
      "1/1 [==============================] - 0s 25ms/step\n",
      "1/1 [==============================] - 0s 25ms/step\n",
      "1/1 [==============================] - 0s 22ms/step\n",
      "1/1 [==============================] - 0s 23ms/step\n",
      "1/1 [==============================] - 0s 22ms/step\n",
      "1/1 [==============================] - 0s 23ms/step\n",
      "1/1 [==============================] - 0s 22ms/step\n",
      "1/1 [==============================] - 0s 22ms/step\n",
      "1/1 [==============================] - 0s 23ms/step\n",
      "1/1 [==============================] - 0s 23ms/step\n",
      "1/1 [==============================] - 0s 23ms/step\n",
      "1/1 [==============================] - 0s 22ms/step\n",
      "1/1 [==============================] - 0s 22ms/step\n",
      "1/1 [==============================] - 0s 22ms/step\n"
     ]
    }
   ],
   "source": [
    "from copy import deepcopy\n",
    "\n",
    "recursive_predictions = []\n",
    "recursive_dates = np.concatenate([dates_val, dates_test])\n",
    "\n",
    "for target_date in recursive_dates:\n",
    "  last_window = deepcopy(X_train[-1])\n",
    "  next_prediction = model.predict(np.array([last_window])).flatten()\n",
    "  recursive_predictions.append(next_prediction)\n",
    "  last_window[-1] = next_prediction"
   ]
  },
  {
   "cell_type": "code",
   "execution_count": 19,
   "id": "82f666fe",
   "metadata": {},
   "outputs": [
    {
     "data": {
      "text/plain": [
       "<matplotlib.legend.Legend at 0x1876b6cdfd0>"
      ]
     },
     "execution_count": 19,
     "metadata": {},
     "output_type": "execute_result"
    },
    {
     "data": {
      "image/png": "[encoded data removed]",
      "text/plain": [
       "<Figure size 432x288 with 1 Axes>"
      ]
     },
     "metadata": {
      "needs_background": "light"
     },
     "output_type": "display_data"
    }
   ],
   "source": [
    "plt.plot(dates_train, train_predictions)\n",
    "plt.plot(dates_train, y_train)\n",
    "plt.plot(dates_val, val_predictions)\n",
    "plt.plot(dates_val, y_val)\n",
    "plt.plot(dates_test, test_predictions)\n",
    "plt.plot(dates_test, y_test)\n",
    "plt.plot(recursive_dates, recursive_predictions)\n",
    "plt.legend(['Training Predictions', \n",
    "            'Training Observations',\n",
    "            'Validation Predictions', \n",
    "            'Validation Observations',\n",
    "            'Testing Predictions', \n",
    "            'Testing Observations',\n",
    "            'Recursive Predictions'])"
   ]
  },
  {
   "cell_type": "code",
   "execution_count": null,
   "id": "cc282111",
   "metadata": {},
   "outputs": [],
   "source": []
  },
  {
   "cell_type": "code",
   "execution_count": null,
   "id": "e827003d",
   "metadata": {},
   "outputs": [],
   "source": []
  }
 ],
 "metadata": {
  "kernelspec": {
   "display_name": "Python 3 (ipykernel)",
   "language": "python",
   "name": "python3"
  },
  "language_info": {
   "codemirror_mode": {
    "name": "ipython",
    "version": 3
   },
   "file_extension": ".py",
   "mimetype": "text/x-python",
   "name": "python",
   "nbconvert_exporter": "python",
   "pygments_lexer": "ipython3",
   "version": "3.9.12"
  }
 },
 "nbformat": 4,
 "nbformat_minor": 5
}
